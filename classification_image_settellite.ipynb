{
  "nbformat": 4,
  "nbformat_minor": 0,
  "metadata": {
    "colab": {
      "provenance": [],
      "mount_file_id": "1CNRmGpUDpYaAmNbXKumjcPh_Y_8svka1",
      "authorship_tag": "ABX9TyOBKD2lw/9oV41krISvZij4",
      "include_colab_link": true
    },
    "kernelspec": {
      "name": "python3",
      "display_name": "Python 3"
    },
    "language_info": {
      "name": "python"
    }
  },
  "cells": [
    {
      "cell_type": "markdown",
      "metadata": {
        "id": "view-in-github",
        "colab_type": "text"
      },
      "source": [
        "<a href=\"https://colab.research.google.com/github/bassala/google_colab/blob/main/classification_image_settellite.ipynb\" target=\"_parent\"><img src=\"https://colab.research.google.com/assets/colab-badge.svg\" alt=\"Open In Colab\"/></a>"
      ]
    },
    {
      "cell_type": "code",
      "execution_count": 39,
      "metadata": {
        "id": "xOe_-fIkJAqh"
      },
      "outputs": [],
      "source": [
        "# installation de kaggle\n",
        "!pip install -q kaggle"
      ]
    },
    {
      "cell_type": "code",
      "source": [
        "# création de dossier kaggle\n",
        "!mkdir -p ~/.kaggle/"
      ],
      "metadata": {
        "id": "iop2AdwOKKgd"
      },
      "execution_count": null,
      "outputs": []
    },
    {
      "cell_type": "code",
      "source": [
        "# copier le fichier kaggle.json dans le dossier kaggle\n",
        "! cp '/content/drive/MyDrive/Colab Notebooks/kaggle.json' ~/.kaggle/"
      ],
      "metadata": {
        "id": "-dUnCwpxQqmE"
      },
      "execution_count": null,
      "outputs": []
    },
    {
      "cell_type": "code",
      "source": [
        "#donner les droits a kaggle.json\n",
        "! chmod 600 ~/.kaggle/kaggle.json"
      ],
      "metadata": {
        "id": "JQb10En_RdQh"
      },
      "execution_count": null,
      "outputs": []
    },
    {
      "cell_type": "code",
      "source": [
        "#! kaggle datasets list"
      ],
      "metadata": {
        "id": "_KC0eF_cRi-R"
      },
      "execution_count": null,
      "outputs": []
    },
    {
      "cell_type": "code",
      "source": [
        "! kaggle datasets download -d mahmoudreda55/satellite-image-classification"
      ],
      "metadata": {
        "colab": {
          "base_uri": "https://localhost:8080/"
        },
        "id": "HgRV9xkBSZYg",
        "outputId": "3ada0f16-d36f-422a-9ac9-6afbbf4a7e02"
      },
      "execution_count": null,
      "outputs": [
        {
          "output_type": "stream",
          "name": "stdout",
          "text": [
            "Dataset URL: https://www.kaggle.com/datasets/mahmoudreda55/satellite-image-classification\n",
            "License(s): copyright-authors\n",
            "Downloading satellite-image-classification.zip to /content\n",
            " 23% 5.00M/21.8M [00:00<00:00, 28.2MB/s]\n",
            "100% 21.8M/21.8M [00:00<00:00, 82.0MB/s]\n"
          ]
        }
      ]
    },
    {
      "cell_type": "code",
      "source": [
        "! unzip /content/satellite-image-classification.zip -d classification_datasets"
      ],
      "metadata": {
        "id": "rN3sbcBwaeMS"
      },
      "execution_count": null,
      "outputs": []
    }
  ]
}